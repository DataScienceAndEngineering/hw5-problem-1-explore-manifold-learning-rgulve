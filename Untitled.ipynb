{
 "cells": [
  {
   "cell_type": "code",
   "execution_count": 6,
   "id": "8dfc630a",
   "metadata": {},
   "outputs": [
    {
     "name": "stdout",
     "output_type": "stream",
     "text": [
      "Enter the no101\n",
      "5\n",
      "8\n",
      "11\n",
      "14\n",
      "17\n",
      "20\n",
      "23\n",
      "26\n",
      "29\n",
      "32\n",
      "35\n",
      "38\n",
      "41\n",
      "44\n",
      "47\n",
      "50\n",
      "53\n",
      "56\n",
      "59\n",
      "62\n",
      "65\n",
      "68\n",
      "71\n",
      "74\n",
      "77\n",
      "80\n",
      "83\n",
      "86\n",
      "89\n",
      "92\n",
      "95\n",
      "98\n",
      "101\n",
      "[0, 1, 8, 9, 16, 50, 36, 49, 128, 81, 100, 242, 144, 169, 392, 225, 256, 578, 324, 361, 800, 441, 484, 1058, 576, 625, 1352, 729, 784, 1682, 900, 961, 2048, 1089, 1156, 2450, 1296, 1369, 2888, 1521, 1600, 3362, 1764, 1849, 3872, 2025, 2116, 4418, 2304, 2401, 5000, 2601, 2704, 5618, 2916, 3025, 6272, 3249, 3364, 6962, 3600, 3721, 7688, 3969, 4096, 8450, 4356, 4489, 9248, 4761, 4900, 10082, 5184, 5329, 10952, 5625, 5776, 11858, 6084, 6241, 12800, 6561, 6724, 13778, 7056, 7225, 14792, 7569, 7744, 15842, 8100, 8281, 16928, 8649, 8836, 18050, 9216, 9409, 19208, 9801, 10000]\n"
     ]
    }
   ],
   "source": [
    "n = int(input(\"Enter the no\"))\n",
    "l =[]\n",
    "\n",
    "for i in range(n):\n",
    "    l.append(i*i)\n",
    "\n",
    "i =2 \n",
    "while i<n:\n",
    "    l[i] *= 2\n",
    "    i = i+3\n",
    "    print(i)\n"
   ]
  },
  {
   "cell_type": "code",
   "execution_count": null,
   "id": "1a30f211",
   "metadata": {},
   "outputs": [],
   "source": []
  }
 ],
 "metadata": {
  "kernelspec": {
   "display_name": "Python 3 (ipykernel)",
   "language": "python",
   "name": "python3"
  },
  "language_info": {
   "codemirror_mode": {
    "name": "ipython",
    "version": 3
   },
   "file_extension": ".py",
   "mimetype": "text/x-python",
   "name": "python",
   "nbconvert_exporter": "python",
   "pygments_lexer": "ipython3",
   "version": "3.9.12"
  }
 },
 "nbformat": 4,
 "nbformat_minor": 5
}
